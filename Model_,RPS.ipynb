{
  "nbformat": 4,
  "nbformat_minor": 0,
  "metadata": {
    "colab": {
      "name": "Model ,RPS.ipynb",
      "provenance": [],
      "collapsed_sections": []
    },
    "kernelspec": {
      "name": "python3",
      "display_name": "Python 3"
    },
    "language_info": {
      "name": "python"
    }
  },
  "cells": [
    {
      "cell_type": "code",
      "execution_count": 124,
      "metadata": {
        "colab": {
          "base_uri": "https://localhost:8080/"
        },
        "id": "NFPpmHXF_dT1",
        "outputId": "d0835eba-10f9-4c68-899d-e3bdb9c65c6b"
      },
      "outputs": [
        {
          "output_type": "stream",
          "name": "stdout",
          "text": [
            "WARNING:tensorflow:No training configuration found in the save file, so the model was *not* compiled. Compile it manually.\n"
          ]
        }
      ],
      "source": [
        "from keras.models import load_model\n",
        "from PIL import Image, ImageOps\n",
        "import numpy as np\n",
        "import random\n",
        "# Load the model\n",
        "model = load_model('keras_model.h5')\n",
        "\n"
      ]
    },
    {
      "cell_type": "code",
      "source": [
        "\n",
        "# Create the array of the right shape to feed into the keras model\n",
        "# The 'length' or number of images you can put into the array is\n",
        "# determined by the first position in the shape tuple, in this case 1.\n",
        "data = np.ndarray(shape=(1, 224, 224, 3), dtype=np.float32)\n",
        "# Replace this with the path to your image\n",
        "image = Image.open(r\"IMG-2776.jpg\")\n",
        "labels = [line for line in open(\"labels.txt\")]\n",
        "#resize the image to a 224x224 with the same strategy as in TM2:\n",
        "#resizing the image to be at least 224x224 and then cropping from the center\n",
        "size = (224, 224)\n",
        "image = ImageOps.fit(image, size, Image.ANTIALIAS)\n",
        "\n",
        "#turn the image into a numpy array\n",
        "image_array = np.asarray(image)\n",
        "# Normalize the image\n",
        "normalized_image_array = (image_array.astype(np.float32) / 127.0) - 1\n",
        "# Load the image into the array\n",
        "data[0] = normalized_image_array\n",
        "# run the inference\n",
        "prediction = model.predict(data)\n",
        "print(\"You chose option \" + labels[np.argmax(prediction)])\n",
        "val = labels[np.argmax(prediction)].strip()\n",
        "print(val)"
      ],
      "metadata": {
        "id": "12RCdupkCibO",
        "colab": {
          "base_uri": "https://localhost:8080/"
        },
        "outputId": "235cd6df-fdec-4943-e029-16853455140a"
      },
      "execution_count": 125,
      "outputs": [
        {
          "output_type": "stream",
          "name": "stdout",
          "text": [
            "You chose option paper\n",
            "\n",
            "paper\n"
          ]
        }
      ]
    },
    {
      "cell_type": "code",
      "source": [
        ""
      ],
      "metadata": {
        "id": "-5QSafz0ClrQ",
        "colab": {
          "base_uri": "https://localhost:8080/"
        },
        "outputId": "136504b3-42df-4346-9506-46c10f106055"
      },
      "execution_count": 123,
      "outputs": [
        {
          "name": "stdout",
          "output_type": "stream",
          "text": [
            "Welcome to the game, life can be tough and taking a break from it can be rather rewarding. That is exactly what this is supposesd to be. There are two games to play, Rock, Paper, Scissors, and a guessing game. 1 for Rock, Paper, Scissors, and 2 for the guessing game: 1\n"
          ]
        }
      ]
    },
    {
      "cell_type": "code",
      "source": [
        "print(\"Welcome to the game, life can be tough and taking a break from it can be rather rewarding.\")\n",
        "print(\"That is the point of this game, to help you relax\")\n",
        "print(\"There are two games. Rock, paper ,scissors, and a guessing game. \")\n",
        "select = input(\"Press 1 for Rock, paper, Scissors, and 2 to guess: \")\n",
        "        \n",
        "if(select == '1'):\n",
        "  gen = random.randrange(1,3)\n",
        "  if(gen == 1):\n",
        "    ans = \"rock\"\n",
        "  if(gen == 2):\n",
        "    ans = \"paper\"\n",
        "  if(gen == 3):\n",
        "    ans == \"scissors\"\n",
        "  print(\"Loading...\")\n",
        "  print(\"Loading...\")\n",
        "  print(\"Loading...\")\n",
        "  print(\"The game has chosen its answer...\")\n",
        "\n",
        "  if(val == \"paper\"):\n",
        "    if(ans == \"rock\"):\n",
        "      print(\"THAT's a WIN!\")\n",
        "    if(ans == val):\n",
        "      print(\"That's a tie\")\n",
        "    if(ans == \"scissors\"):\n",
        "      print(\"You lost...\")\n",
        "  \n",
        "  if(val == \"rock\"):\n",
        "    if(ans == val):\n",
        "      print(\"That's a tie\")\n",
        "    if(ans == \"paper\"):\n",
        "      print(\"You lost...\")\n",
        "    if(ans == \"scissors\"):\n",
        "      print(\"That's a WIN!\")   \n",
        "\n",
        "  \n",
        "  if(val == \"scissors\"):\n",
        "      if(ans == \"rock\"):\n",
        "        print(\"You lost...\")\n",
        "      if(ans == \"paper\"):\n",
        "        print(\"THAT's a WIN!\")\n",
        "      if(ans == val):\n",
        "        print(\"tie game\")           "
      ],
      "metadata": {
        "id": "QxzEFxneCo_3",
        "colab": {
          "base_uri": "https://localhost:8080/"
        },
        "outputId": "8f20f424-3f35-4de9-8f7d-a4e1d5784d84"
      },
      "execution_count": 133,
      "outputs": [
        {
          "output_type": "stream",
          "name": "stdout",
          "text": [
            "Welcome to the game, life can be tough and taking a break from it can be rather rewarding.\n",
            "That is the point of this game, to help you relax\n",
            "There are two games. Rock, paper ,scissors, and a guessing game. \n",
            "Press 1 for Rock, paper, Scissors, and 2 to guess: 1\n",
            "1\n",
            "Loading...\n",
            "Loading...\n",
            "Loading...\n",
            "The game has chosen its answer...\n",
            "THAT's a WIN!\n"
          ]
        }
      ]
    },
    {
      "cell_type": "code",
      "source": [
        ""
      ],
      "metadata": {
        "id": "_ieytLO5_SyC"
      },
      "execution_count": 126,
      "outputs": []
    }
  ]
}